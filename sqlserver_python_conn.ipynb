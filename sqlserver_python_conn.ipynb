{
 "cells": [
  {
   "cell_type": "code",
   "execution_count": 1,
   "metadata": {},
   "outputs": [],
   "source": [
    "import pandas as pd\n",
    "from sqlalchemy import create_engine\n",
    "\n",
    "# Replace these values with your actual database information\n",
    "server_name = 'LAPTOP-1T494R4P\\\\MSSQLSERVER01'\n",
    "database_name = 'painting'\n",
    "username = 'LAPTOP-1T494R4P\\\\shali'  # Use Windows Authentication, no need for a password\n",
    "\n",
    "# Construct the connection string for Windows Authentication\n",
    "conn_string = f'mssql+pyodbc://{username}@{server_name}/{database_name}?driver=ODBC+Driver+17+for+SQL+Server&trusted_connection=yes'\n",
    "\n",
    "# Create the SQLAlchemy engine\n",
    "engine = create_engine(conn_string)\n",
    "\n"
   ]
  },
  {
   "cell_type": "code",
   "execution_count": 2,
   "metadata": {},
   "outputs": [],
   "source": [
    "import os\n",
    "files = ['artist', 'canvas_size', 'image_link', 'museum_hours', 'museum', 'product_size', 'subject', 'work']\n",
    "for file in files:\n",
    "    df = pd.read_csv(f'{file}.csv')\n",
    "    df.to_sql(file, con=engine, if_exists='replace', index=False, schema='dbo')\n",
    "# Close the connection (optional)\n",
    "engine.dispose()\n",
    "    "
   ]
  },
  {
   "cell_type": "code",
   "execution_count": null,
   "metadata": {},
   "outputs": [],
   "source": []
  }
 ],
 "metadata": {
  "kernelspec": {
   "display_name": "Python 3",
   "language": "python",
   "name": "python3"
  },
  "language_info": {
   "codemirror_mode": {
    "name": "ipython",
    "version": 3
   },
   "file_extension": ".py",
   "mimetype": "text/x-python",
   "name": "python",
   "nbconvert_exporter": "python",
   "pygments_lexer": "ipython3",
   "version": "3.8.5"
  }
 },
 "nbformat": 4,
 "nbformat_minor": 4
}
